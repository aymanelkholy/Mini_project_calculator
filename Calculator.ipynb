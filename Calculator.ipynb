{
 "cells": [
  {
   "cell_type": "code",
   "execution_count": null,
   "id": "62c85186",
   "metadata": {},
   "outputs": [],
   "source": [
    "def calc(x,y):\n",
    "    operation = input('PlZ enter operation Type add,sub,mult,dive')\n",
    "    x=int(input('PLZ enter x number '))\n",
    "    y=int(input('plz enter y number'))\n",
    "    if operation == 'add':\n",
    "        print('addition of two numbers are : ',x+y)\n",
    "    elif operation=='sub':\n",
    "        print('subtarction of two numbers are : ',x-y)\n",
    "    elif operation=='mult':\n",
    "        print('multiblication of two numbers are : ',x*y)\n",
    "    elif operation=='dive':\n",
    "        print('division of two numbers are : ',x/y)\n",
    "    other=input('d y want another operation write yes')\n",
    "\n",
    "    if other == 'yes':\n",
    "        calc(x,y)\n",
    "    if other=='stop' :\n",
    "        print(' y end calc')\n",
    "calc(a,b)\n"
   ]
  },
  {
   "cell_type": "code",
   "execution_count": null,
   "id": "172d0a4e",
   "metadata": {},
   "outputs": [],
   "source": []
  }
 ],
 "metadata": {
  "kernelspec": {
   "display_name": "Python 3 (ipykernel)",
   "language": "python",
   "name": "python3"
  },
  "language_info": {
   "codemirror_mode": {
    "name": "ipython",
    "version": 3
   },
   "file_extension": ".py",
   "mimetype": "text/x-python",
   "name": "python",
   "nbconvert_exporter": "python",
   "pygments_lexer": "ipython3",
   "version": "3.9.7"
  }
 },
 "nbformat": 4,
 "nbformat_minor": 5
}
